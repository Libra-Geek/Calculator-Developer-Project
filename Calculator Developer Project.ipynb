{
 "cells": [
  {
   "cell_type": "code",
   "execution_count": 8,
   "id": "07fb7933",
   "metadata": {},
   "outputs": [],
   "source": [
    "# create addition to divide functions\n",
    "def add (x,y):\n",
    "    return x + y\n",
    "\n",
    "def subtract (x,y):\n",
    "    return x - y\n",
    "\n",
    "def multiply (x,y):\n",
    "    return x * y\n",
    "\n",
    "def divide (x,y):\n",
    "    return x / y"
   ]
  },
  {
   "cell_type": "code",
   "execution_count": 14,
   "id": "015935c0",
   "metadata": {},
   "outputs": [
    {
     "name": "stdout",
     "output_type": "stream",
     "text": [
      "Enter A for Addition\n",
      "Enter S for Subtraction\n",
      "Enter M for Multiplication\n",
      "Enter D for Division\n",
      "Enter Choice (A,S,M,D):D\n",
      "Enter the first number: 1\n",
      "Enter the second number: 1\n",
      "1.0\n"
     ]
    }
   ],
   "source": [
    "print (\"Enter A for Addition\")\n",
    "print (\"Enter S for Subtraction\")\n",
    "print (\"Enter M for Multiplication\")\n",
    "print (\"Enter D for Division\")\n",
    "\n",
    "choice = input(\"Enter Choice (A,S,M,D):\")\n",
    "\n",
    "if choice.upper() in ('A', 'S', 'M', 'D'):\n",
    "    x = float(input (\"Enter the first number: \"))\n",
    "    y = float(input (\"Enter the second number: \"))\n",
    "    \n",
    "    if choice.upper() in ('A'):\n",
    "        print (add (x,y))\n",
    "        \n",
    "    elif choice.upper() in ('S'):\n",
    "        print (subtract (x,y))\n",
    "    \n",
    "    elif choice.upper() in ('M'):\n",
    "        print (multiply (x,y))\n",
    "    \n",
    "    elif choice.upper() in ('D'):\n",
    "        print (divide (x,y))\n",
    "\n",
    "else:\n",
    "    print(\"Please input a correct choice.\")\n",
    "\n",
    "    \n"
   ]
  },
  {
   "cell_type": "code",
   "execution_count": 19,
   "id": "970dc5a0",
   "metadata": {
    "collapsed": true
   },
   "outputs": [
    {
     "name": "stdout",
     "output_type": "stream",
     "text": [
      "Enter A for Addition\n",
      "Enter S for Subtraction\n",
      "Enter M for Multiplication\n",
      "Enter D for Division\n",
      "Enter Choice (A,S,M,D):s\n",
      "Enter the first number: 12\n",
      "Enter the second number: 12\n",
      "0.0\n",
      "Want to perform another calculation? (Y/N): n\n"
     ]
    }
   ],
   "source": [
    "#introducing a while loop\n",
    "\n",
    "print (\"Enter A for Addition\")\n",
    "print (\"Enter S for Subtraction\")\n",
    "print (\"Enter M for Multiplication\")\n",
    "print (\"Enter D for Division\")\n",
    "\n",
    "while True:\n",
    "    choice = input(\"Enter Choice (A,S,M,D):\")\n",
    "    \n",
    "    if choice.upper() in ('A', 'S', 'M', 'D'):\n",
    "        x = float(input (\"Enter the first number: \"))\n",
    "        y = float(input (\"Enter the second number: \"))\n",
    "\n",
    "        if choice.upper() in ('A'):\n",
    "            print (add (x,y))\n",
    "\n",
    "        elif choice.upper() in ('S'):\n",
    "            print (subtract (x,y))\n",
    "\n",
    "        elif choice.upper() in ('M'):\n",
    "            print (multiply (x,y))\n",
    "\n",
    "        elif choice.upper() in ('D'):\n",
    "            print (divide (x,y))\n",
    "\n",
    "    else:\n",
    "        print(\"Please input a correct choice.\")\n",
    "    \n",
    "    next_calculation = input (\"Want to perform another calculation? (Y/N): \")\n",
    "    if next_calculation.lower() in ('n'):\n",
    "        break\n",
    "        "
   ]
  },
  {
   "cell_type": "markdown",
   "id": "26f38780",
   "metadata": {},
   "source": [
    "# "
   ]
  }
 ],
 "metadata": {
  "kernelspec": {
   "display_name": "Python 3 (ipykernel)",
   "language": "python",
   "name": "python3"
  },
  "language_info": {
   "codemirror_mode": {
    "name": "ipython",
    "version": 3
   },
   "file_extension": ".py",
   "mimetype": "text/x-python",
   "name": "python",
   "nbconvert_exporter": "python",
   "pygments_lexer": "ipython3",
   "version": "3.9.13"
  }
 },
 "nbformat": 4,
 "nbformat_minor": 5
}
